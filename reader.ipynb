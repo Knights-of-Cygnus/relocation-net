{
 "cells": [
  {
   "cell_type": "code",
   "execution_count": 1,
   "metadata": {},
   "outputs": [],
   "source": [
    "import PIL.Image\n",
    "import numpy as np"
   ]
  },
  {
   "cell_type": "code",
   "execution_count": 5,
   "metadata": {},
   "outputs": [
    {
     "ename": "FileNotFoundError",
     "evalue": "[Errno 2] No such file or directory: 'chessc.png'",
     "output_type": "error",
     "traceback": [
      "\u001B[0;31m---------------------------------------------------------------------------\u001B[0m",
      "\u001B[0;31mFileNotFoundError\u001B[0m                         Traceback (most recent call last)",
      "\u001B[0;32m<ipython-input-5-59806715f86c>\u001B[0m in \u001B[0;36m<module>\u001B[0;34m\u001B[0m\n\u001B[0;32m----> 1\u001B[0;31m \u001B[0mcimage\u001B[0m \u001B[0;34m=\u001B[0m \u001B[0mPIL\u001B[0m\u001B[0;34m.\u001B[0m\u001B[0mImage\u001B[0m\u001B[0;34m.\u001B[0m\u001B[0mopen\u001B[0m\u001B[0;34m(\u001B[0m\u001B[0;34m'chessc.png'\u001B[0m\u001B[0;34m)\u001B[0m\u001B[0;34m\u001B[0m\u001B[0;34m\u001B[0m\u001B[0m\n\u001B[0m\u001B[1;32m      2\u001B[0m \u001B[0;34m\u001B[0m\u001B[0m\n",
      "\u001B[0;32m~/anaconda3/lib/python3.8/site-packages/PIL/Image.py\u001B[0m in \u001B[0;36mopen\u001B[0;34m(fp, mode, formats)\u001B[0m\n\u001B[1;32m   2910\u001B[0m \u001B[0;34m\u001B[0m\u001B[0m\n\u001B[1;32m   2911\u001B[0m     \u001B[0;32mif\u001B[0m \u001B[0mfilename\u001B[0m\u001B[0;34m:\u001B[0m\u001B[0;34m\u001B[0m\u001B[0;34m\u001B[0m\u001B[0m\n\u001B[0;32m-> 2912\u001B[0;31m         \u001B[0mfp\u001B[0m \u001B[0;34m=\u001B[0m \u001B[0mbuiltins\u001B[0m\u001B[0;34m.\u001B[0m\u001B[0mopen\u001B[0m\u001B[0;34m(\u001B[0m\u001B[0mfilename\u001B[0m\u001B[0;34m,\u001B[0m \u001B[0;34m\"rb\"\u001B[0m\u001B[0;34m)\u001B[0m\u001B[0;34m\u001B[0m\u001B[0;34m\u001B[0m\u001B[0m\n\u001B[0m\u001B[1;32m   2913\u001B[0m         \u001B[0mexclusive_fp\u001B[0m \u001B[0;34m=\u001B[0m \u001B[0;32mTrue\u001B[0m\u001B[0;34m\u001B[0m\u001B[0;34m\u001B[0m\u001B[0m\n\u001B[1;32m   2914\u001B[0m \u001B[0;34m\u001B[0m\u001B[0m\n",
      "\u001B[0;31mFileNotFoundError\u001B[0m: [Errno 2] No such file or directory: 'chessc.png'"
     ]
    }
   ],
   "source": [
    "cimage = PIL.Image.open('chessc.png')"
   ]
  },
  {
   "cell_type": "code",
   "execution_count": 5,
   "metadata": {},
   "outputs": [],
   "source": [
    "width, height = cimage.size"
   ]
  },
  {
   "cell_type": "code",
   "execution_count": 6,
   "metadata": {},
   "outputs": [],
   "source": [
    "ncimage = np.array(cimage)"
   ]
  },
  {
   "cell_type": "code",
   "execution_count": 13,
   "metadata": {},
   "outputs": [],
   "source": [
    "cropped = ncimage[np.ix_(range(0, height, 4), range(0, width, 4))]"
   ]
  },
  {
   "cell_type": "code",
   "execution_count": 11,
   "metadata": {},
   "outputs": [
    {
     "data": {
      "text/plain": [
       "(480, 640, 3)"
      ]
     },
     "execution_count": 11,
     "metadata": {},
     "output_type": "execute_result"
    }
   ],
   "source": [
    "ncimage.shape"
   ]
  },
  {
   "cell_type": "code",
   "execution_count": 15,
   "metadata": {},
   "outputs": [
    {
     "data": {
      "text/plain": [
       "(120, 160, 3)"
      ]
     },
     "execution_count": 15,
     "metadata": {},
     "output_type": "execute_result"
    }
   ],
   "source": [
    "cropped.shape"
   ]
  },
  {
   "cell_type": "code",
   "execution_count": 7,
   "metadata": {},
   "outputs": [],
   "source": [
    "dimage = PIL.Image.open('chessd.png')"
   ]
  },
  {
   "cell_type": "code",
   "execution_count": 8,
   "metadata": {},
   "outputs": [],
   "source": [
    "ndimage = np.array(dimage, dtype=np.uint16)"
   ]
  },
  {
   "cell_type": "code",
   "execution_count": 9,
   "metadata": {},
   "outputs": [
    {
     "data": {
      "text/plain": "'I'"
     },
     "execution_count": 9,
     "metadata": {},
     "output_type": "execute_result"
    }
   ],
   "source": [
    "dimage.mode"
   ]
  },
  {
   "cell_type": "code",
   "execution_count": 51,
   "metadata": {},
   "outputs": [],
   "source": [
    "def with_depth(ndi: np.ndarray, homo: bool = False):\n",
    "    @np.vectorize\n",
    "    def iter():\n",
    "        for i, row in enumerate(ndi):\n",
    "            xs = []\n",
    "            for j, depth in enumerate(row):\n",
    "                coord = [i, j, depth]\n",
    "                if homo:\n",
    "                    coord.append(1)\n",
    "                xs.append(coord)\n",
    "            yield xs\n",
    "    return np.array(list(iter()))"
   ]
  },
  {
   "cell_type": "code",
   "execution_count": 10,
   "metadata": {},
   "outputs": [],
   "source": [
    "def assoc_z_axis(ndi: np.ndarray, homo: bool=True):\n",
    "    @np.vectorize\n",
    "    def iter():\n",
    "        ys = []\n",
    "        for i, row in enumerate(ndi):\n",
    "            xs = []\n",
    "            for j, depth in enumerate(row):\n",
    "                coord = [i, j, depth]\n",
    "                if homo:\n",
    "                    coord.append(1)\n",
    "                xs.append(coord)\n",
    "            ys.append(xs)\n",
    "        return ys\n",
    "    return np.array(iter())"
   ]
  },
  {
   "cell_type": "code",
   "execution_count": 160,
   "outputs": [],
   "source": [
    "def assoc_z_axis_c(ndi: np.ndarray):\n",
    "    r, c = ndi.shape\n",
    "    pts = np.array(np.meshgrid(range(r), range(c))).T.reshape(r, c, 2)\n",
    "    return np.concatenate((pts, np.expand_dims(ndi, axis=2)), axis=2)"
   ],
   "metadata": {
    "collapsed": false,
    "pycharm": {
     "name": "#%%\n"
    }
   }
  },
  {
   "cell_type": "code",
   "execution_count": 11,
   "metadata": {},
   "outputs": [
    {
     "ename": "NameError",
     "evalue": "name 'with_depth' is not defined",
     "output_type": "error",
     "traceback": [
      "\u001B[0;31m---------------------------------------------------------------------------\u001B[0m",
      "\u001B[0;31mNameError\u001B[0m                                 Traceback (most recent call last)",
      "\u001B[0;32m<timed exec>\u001B[0m in \u001B[0;36m<module>\u001B[0;34m\u001B[0m\n",
      "\u001B[0;31mNameError\u001B[0m: name 'with_depth' is not defined"
     ]
    }
   ],
   "source": [
    "%time depths = with_depth(darray, True)"
   ]
  },
  {
   "cell_type": "code",
   "execution_count": 15,
   "metadata": {},
   "outputs": [
    {
     "name": "stdout",
     "output_type": "stream",
     "text": [
      "CPU times: user 391 ms, sys: 43.3 ms, total: 434 ms\n",
      "Wall time: 429 ms\n"
     ]
    }
   ],
   "source": [
    "%time depths = assoc_z_axis(ndimage, False)"
   ]
  },
  {
   "cell_type": "code",
   "execution_count": 162,
   "outputs": [
    {
     "name": "stdout",
     "output_type": "stream",
     "text": [
      "CPU times: user 9.02 ms, sys: 118 µs, total: 9.14 ms\n",
      "Wall time: 7.41 ms\n"
     ]
    },
    {
     "data": {
      "text/plain": "array([[[   0,    0,    0],\n        [   0,    1,    0],\n        [   0,    2,    0],\n        ...,\n        [   0,  637,    0],\n        [   0,  638,    0],\n        [   0,  639,    0]],\n\n       [[   1,    0,    0],\n        [   1,    1,    0],\n        [   1,    2,    0],\n        ...,\n        [   1,  637,    0],\n        [   1,  638,    0],\n        [   1,  639,    0]],\n\n       [[   2,    0,    0],\n        [   2,    1,    0],\n        [   2,    2,    0],\n        ...,\n        [   2,  637,    0],\n        [   2,  638,    0],\n        [   2,  639,    0]],\n\n       ...,\n\n       [[ 477,    0, 2639],\n        [ 477,    1, 2659],\n        [ 477,    2, 2659],\n        ...,\n        [ 477,  637,    0],\n        [ 477,  638,    0],\n        [ 477,  639,    0]],\n\n       [[ 478,    0, 2599],\n        [ 478,    1, 2619],\n        [ 478,    2, 2659],\n        ...,\n        [ 478,  637,    0],\n        [ 478,  638,    0],\n        [ 478,  639,    0]],\n\n       [[ 479,    0, 2619],\n        [ 479,    1, 2619],\n        [ 479,    2, 2659],\n        ...,\n        [ 479,  637,    0],\n        [ 479,  638,    0],\n        [ 479,  639,    0]]])"
     },
     "execution_count": 162,
     "metadata": {},
     "output_type": "execute_result"
    }
   ],
   "source": [
    "%time assoc_z_axis_c(ndimage)"
   ],
   "metadata": {
    "collapsed": false,
    "pycharm": {
     "name": "#%%\n"
    }
   }
  },
  {
   "cell_type": "code",
   "execution_count": 38,
   "metadata": {},
   "outputs": [],
   "source": [
    "trans = np.loadtxt('chesst.txt')"
   ]
  },
  {
   "cell_type": "code",
   "execution_count": 39,
   "metadata": {},
   "outputs": [
    {
     "data": {
      "text/plain": [
       "array([[ 0.99935108, -0.01557608,  0.03150894, -0.12323361],\n",
       "       [ 0.00923751,  0.98130137,  0.19211653, -1.1206967 ],\n",
       "       [-0.03391284, -0.19170459,  0.98083067, -0.98870575],\n",
       "       [ 0.        ,  0.        ,  0.        ,  1.        ]])"
      ]
     },
     "execution_count": 39,
     "metadata": {},
     "output_type": "execute_result"
    }
   ],
   "source": [
    "trans"
   ]
  },
  {
   "cell_type": "code",
   "execution_count": 43,
   "metadata": {},
   "outputs": [],
   "source": [
    "darray = np.array(dimage)"
   ]
  },
  {
   "cell_type": "code",
   "execution_count": 53,
   "metadata": {},
   "outputs": [
    {
     "data": {
      "text/plain": [
       "array([[[ 0.00000000e+00,  0.00000000e+00,  0.00000000e+00,\n",
       "          1.00000000e+00],\n",
       "        [ 9.23750920e-03,  9.81301370e-01,  1.92116530e-01,\n",
       "         -1.20696700e-01],\n",
       "        [ 1.84750184e-02,  1.96260274e+00,  3.84233060e-01,\n",
       "         -1.24139340e+00],\n",
       "        ...,\n",
       "        [ 5.88429336e+00,  6.25088973e+02,  1.22378230e+02,\n",
       "         -7.12883798e+02],\n",
       "        [ 5.89353087e+00,  6.26070274e+02,  1.22570346e+02,\n",
       "         -7.14004495e+02],\n",
       "        [ 5.90276838e+00,  6.27051575e+02,  1.22762463e+02,\n",
       "         -7.15125191e+02]],\n",
       "\n",
       "       [[ 9.99351080e-01, -1.55760840e-02,  3.15089410e-02,\n",
       "          8.76766390e-01],\n",
       "        [ 1.00858859e+00,  9.65725286e-01,  2.23625471e-01,\n",
       "         -2.43930310e-01],\n",
       "        [ 1.01782610e+00,  1.94702666e+00,  4.15742001e-01,\n",
       "         -1.36462701e+00],\n",
       "        ...,\n",
       "        [ 6.88364444e+00,  6.25073397e+02,  1.22409739e+02,\n",
       "         -7.13007032e+02],\n",
       "        [ 6.89288195e+00,  6.26054698e+02,  1.22601855e+02,\n",
       "         -7.14127728e+02],\n",
       "        [ 6.90211946e+00,  6.27035999e+02,  1.22793972e+02,\n",
       "         -7.15248425e+02]],\n",
       "\n",
       "       [[ 1.99870216e+00, -3.11521680e-02,  6.30178820e-02,\n",
       "          7.53532780e-01],\n",
       "        [ 2.00793967e+00,  9.50149202e-01,  2.55134412e-01,\n",
       "         -3.67163920e-01],\n",
       "        [ 2.01717718e+00,  1.93145057e+00,  4.47250942e-01,\n",
       "         -1.48786062e+00],\n",
       "        ...,\n",
       "        [ 7.88299552e+00,  6.25057821e+02,  1.22441247e+02,\n",
       "         -7.13130265e+02],\n",
       "        [ 7.89223303e+00,  6.26039122e+02,  1.22633364e+02,\n",
       "         -7.14250962e+02],\n",
       "        [ 7.90147054e+00,  6.27020423e+02,  1.22825481e+02,\n",
       "         -7.15371659e+02]],\n",
       "\n",
       "       ...,\n",
       "\n",
       "       [[ 3.87194467e+02, -5.13338205e+02,  2.60344190e+03,\n",
       "         -2.66697691e+03],\n",
       "        [ 3.86525448e+02, -5.16190996e+02,  2.62325063e+03,\n",
       "         -2.68787172e+03],\n",
       "        [ 3.86534685e+02, -5.15209694e+02,  2.62344275e+03,\n",
       "         -2.68899241e+03],\n",
       "        ...,\n",
       "        [ 4.82574759e+02,  6.17659181e+02,  1.37407994e+02,\n",
       "         -7.71666230e+02],\n",
       "        [ 4.82583996e+02,  6.18640482e+02,  1.37600111e+02,\n",
       "         -7.72786927e+02],\n",
       "        [ 4.82593234e+02,  6.19621783e+02,  1.37792228e+02,\n",
       "         -7.73907623e+02]],\n",
       "\n",
       "       [[ 3.89550332e+02, -5.05685598e+02,  2.56424019e+03,\n",
       "         -2.62755191e+03],\n",
       "        [ 3.88881313e+02, -5.08538388e+02,  2.58404892e+03,\n",
       "         -2.64844672e+03],\n",
       "        [ 3.87534036e+02, -5.15225270e+02,  2.62347426e+03,\n",
       "         -2.68911565e+03],\n",
       "        ...,\n",
       "        [ 4.83574110e+02,  6.17643605e+02,  1.37439503e+02,\n",
       "         -7.71789463e+02],\n",
       "        [ 4.83583347e+02,  6.18624906e+02,  1.37631620e+02,\n",
       "         -7.72910160e+02],\n",
       "        [ 4.83592585e+02,  6.19606207e+02,  1.37823736e+02,\n",
       "         -7.74030857e+02]],\n",
       "\n",
       "       [[ 3.89871426e+02, -5.09535265e+02,  2.58388831e+03,\n",
       "         -2.64744926e+03],\n",
       "        [ 3.89880664e+02, -5.08553964e+02,  2.58408042e+03,\n",
       "         -2.64856996e+03],\n",
       "        [ 3.88533387e+02, -5.15240846e+02,  2.62350577e+03,\n",
       "         -2.68923888e+03],\n",
       "        ...,\n",
       "        [ 4.84573461e+02,  6.17628028e+02,  1.37471012e+02,\n",
       "         -7.71912697e+02],\n",
       "        [ 4.84582698e+02,  6.18609330e+02,  1.37663129e+02,\n",
       "         -7.73033394e+02],\n",
       "        [ 4.84591936e+02,  6.19590631e+02,  1.37855245e+02,\n",
       "         -7.74154090e+02]]])"
      ]
     },
     "execution_count": 53,
     "metadata": {},
     "output_type": "execute_result"
    }
   ],
   "source": [
    "np.dot(depths, trans)"
   ]
  },
  {
   "cell_type": "code",
   "execution_count": 1,
   "metadata": {},
   "outputs": [
    {
     "ename": "ModuleNotFoundError",
     "evalue": "No module named 'torch'",
     "output_type": "error",
     "traceback": [
      "\u001B[1;31m---------------------------------------------------------------------------\u001B[0m",
      "\u001B[1;31mModuleNotFoundError\u001B[0m                       Traceback (most recent call last)",
      "\u001B[1;32m<ipython-input-1-2a300c68978a>\u001B[0m in \u001B[0;36m<module>\u001B[1;34m\u001B[0m\n\u001B[1;32m----> 1\u001B[1;33m \u001B[1;32mfrom\u001B[0m \u001B[0mtrain\u001B[0m \u001B[1;32mimport\u001B[0m \u001B[0mtrain_shitnet\u001B[0m\u001B[1;33m\u001B[0m\u001B[1;33m\u001B[0m\u001B[0m\n\u001B[0m",
      "\u001B[1;32mD:\\Works\\Relocalization\\Impls\\ShitNet\\train.py\u001B[0m in \u001B[0;36m<module>\u001B[1;34m\u001B[0m\n\u001B[1;32m----> 1\u001B[1;33m \u001B[1;32mimport\u001B[0m \u001B[0mtorch\u001B[0m\u001B[1;33m\u001B[0m\u001B[1;33m\u001B[0m\u001B[0m\n\u001B[0m\u001B[0;32m      2\u001B[0m \u001B[1;32mfrom\u001B[0m \u001B[0mtorch\u001B[0m \u001B[1;32mimport\u001B[0m \u001B[0mnn\u001B[0m\u001B[1;33m\u001B[0m\u001B[1;33m\u001B[0m\u001B[0m\n\u001B[0;32m      3\u001B[0m \u001B[1;32mimport\u001B[0m \u001B[0mtime\u001B[0m\u001B[1;33m\u001B[0m\u001B[1;33m\u001B[0m\u001B[0m\n\u001B[0;32m      4\u001B[0m \u001B[1;32mimport\u001B[0m \u001B[0mos\u001B[0m\u001B[1;33m\u001B[0m\u001B[1;33m\u001B[0m\u001B[0m\n\u001B[0;32m      5\u001B[0m \u001B[1;32mfrom\u001B[0m \u001B[0mtorch\u001B[0m\u001B[1;33m.\u001B[0m\u001B[0mutils\u001B[0m\u001B[1;33m.\u001B[0m\u001B[0mdata\u001B[0m \u001B[1;32mimport\u001B[0m \u001B[0mDataLoader\u001B[0m\u001B[1;33m\u001B[0m\u001B[1;33m\u001B[0m\u001B[0m\n",
      "\u001B[1;31mModuleNotFoundError\u001B[0m: No module named 'torch'"
     ]
    }
   ],
   "source": [
    "from train import train_shitnet"
   ]
  },
  {
   "cell_type": "code",
   "execution_count": 37,
   "metadata": {},
   "outputs": [],
   "source": [
    "sqdepths = np.insert(depths, 3, 1, axis=2)"
   ]
  },
  {
   "cell_type": "code",
   "execution_count": 38,
   "metadata": {
    "pycharm": {
     "name": "#%%\n"
    }
   },
   "outputs": [
    {
     "data": {
      "text/plain": "array([[[   0,    0,    0,    1],\n        [   0,    1,    0,    1],\n        [   0,    2,    0,    1],\n        ...,\n        [   0,  637,    0,    1],\n        [   0,  638,    0,    1],\n        [   0,  639,    0,    1]],\n\n       [[   1,    0,    0,    1],\n        [   1,    1,    0,    1],\n        [   1,    2,    0,    1],\n        ...,\n        [   1,  637,    0,    1],\n        [   1,  638,    0,    1],\n        [   1,  639,    0,    1]],\n\n       [[   2,    0,    0,    1],\n        [   2,    1,    0,    1],\n        [   2,    2,    0,    1],\n        ...,\n        [   2,  637,    0,    1],\n        [   2,  638,    0,    1],\n        [   2,  639,    0,    1]],\n\n       ...,\n\n       [[ 477,    0, 2639,    1],\n        [ 477,    1, 2659,    1],\n        [ 477,    2, 2659,    1],\n        ...,\n        [ 477,  637,    0,    1],\n        [ 477,  638,    0,    1],\n        [ 477,  639,    0,    1]],\n\n       [[ 478,    0, 2599,    1],\n        [ 478,    1, 2619,    1],\n        [ 478,    2, 2659,    1],\n        ...,\n        [ 478,  637,    0,    1],\n        [ 478,  638,    0,    1],\n        [ 478,  639,    0,    1]],\n\n       [[ 479,    0, 2619,    1],\n        [ 479,    1, 2619,    1],\n        [ 479,    2, 2659,    1],\n        ...,\n        [ 479,  637,    0,    1],\n        [ 479,  638,    0,    1],\n        [ 479,  639,    0,    1]]])"
     },
     "execution_count": 38,
     "metadata": {},
     "output_type": "execute_result"
    }
   ],
   "source": [
    "sqdepths\n",
    "\n"
   ]
  },
  {
   "cell_type": "code",
   "execution_count": 39,
   "outputs": [
    {
     "data": {
      "text/plain": "array([[[1, 2, 3, 1],\n        [3, 4, 5, 1]]])"
     },
     "execution_count": 39,
     "metadata": {},
     "output_type": "execute_result"
    }
   ],
   "source": [
    "np.insert(np.array([[[1, 2, 3], [3, 4, 5]]]), 3, 1, axis=2)\n"
   ],
   "metadata": {
    "collapsed": false,
    "pycharm": {
     "name": "#%%\n"
    }
   }
  },
  {
   "cell_type": "code",
   "execution_count": 40,
   "outputs": [],
   "source": [
    "homo = np.array([[[2, 4, 2], [3, 9, 3]]])\n"
   ],
   "metadata": {
    "collapsed": false,
    "pycharm": {
     "name": "#%%\n"
    }
   }
  },
  {
   "cell_type": "code",
   "execution_count": 70,
   "outputs": [
    {
     "data": {
      "text/plain": "array([[[1., 2.],\n        [1., 3.]]])"
     },
     "execution_count": 70,
     "metadata": {},
     "output_type": "execute_result"
    }
   ],
   "source": [
    "np.delete(homo / homo[:, :, 2].T, 2, 2)"
   ],
   "metadata": {
    "collapsed": false,
    "pycharm": {
     "name": "#%%\n"
    }
   }
  },
  {
   "cell_type": "code",
   "execution_count": 63,
   "outputs": [
    {
     "data": {
      "text/plain": "array([[2],\n       [3]])"
     },
     "execution_count": 63,
     "metadata": {},
     "output_type": "execute_result"
    }
   ],
   "source": [
    "homo[:, :, 2].T"
   ],
   "metadata": {
    "collapsed": false,
    "pycharm": {
     "name": "#%%\n"
    }
   }
  },
  {
   "cell_type": "code",
   "execution_count": 95,
   "outputs": [],
   "source": [
    "def to_nonke(ds):\n",
    "    return np.delete(ds / np.expand_dims(ds[..., 3], axis=2), 3, 2)"
   ],
   "metadata": {
    "collapsed": false,
    "pycharm": {
     "name": "#%%\n"
    }
   }
  },
  {
   "cell_type": "code",
   "execution_count": 96,
   "outputs": [
    {
     "data": {
      "text/plain": "array([[[0.000e+00, 0.000e+00, 0.000e+00],\n        [0.000e+00, 1.000e+00, 0.000e+00],\n        [0.000e+00, 2.000e+00, 0.000e+00],\n        ...,\n        [0.000e+00, 6.370e+02, 0.000e+00],\n        [0.000e+00, 6.380e+02, 0.000e+00],\n        [0.000e+00, 6.390e+02, 0.000e+00]],\n\n       [[1.000e+00, 0.000e+00, 0.000e+00],\n        [1.000e+00, 1.000e+00, 0.000e+00],\n        [1.000e+00, 2.000e+00, 0.000e+00],\n        ...,\n        [1.000e+00, 6.370e+02, 0.000e+00],\n        [1.000e+00, 6.380e+02, 0.000e+00],\n        [1.000e+00, 6.390e+02, 0.000e+00]],\n\n       [[2.000e+00, 0.000e+00, 0.000e+00],\n        [2.000e+00, 1.000e+00, 0.000e+00],\n        [2.000e+00, 2.000e+00, 0.000e+00],\n        ...,\n        [2.000e+00, 6.370e+02, 0.000e+00],\n        [2.000e+00, 6.380e+02, 0.000e+00],\n        [2.000e+00, 6.390e+02, 0.000e+00]],\n\n       ...,\n\n       [[4.770e+02, 0.000e+00, 2.639e+03],\n        [4.770e+02, 1.000e+00, 2.659e+03],\n        [4.770e+02, 2.000e+00, 2.659e+03],\n        ...,\n        [4.770e+02, 6.370e+02, 0.000e+00],\n        [4.770e+02, 6.380e+02, 0.000e+00],\n        [4.770e+02, 6.390e+02, 0.000e+00]],\n\n       [[4.780e+02, 0.000e+00, 2.599e+03],\n        [4.780e+02, 1.000e+00, 2.619e+03],\n        [4.780e+02, 2.000e+00, 2.659e+03],\n        ...,\n        [4.780e+02, 6.370e+02, 0.000e+00],\n        [4.780e+02, 6.380e+02, 0.000e+00],\n        [4.780e+02, 6.390e+02, 0.000e+00]],\n\n       [[4.790e+02, 0.000e+00, 2.619e+03],\n        [4.790e+02, 1.000e+00, 2.619e+03],\n        [4.790e+02, 2.000e+00, 2.659e+03],\n        ...,\n        [4.790e+02, 6.370e+02, 0.000e+00],\n        [4.790e+02, 6.380e+02, 0.000e+00],\n        [4.790e+02, 6.390e+02, 0.000e+00]]])"
     },
     "execution_count": 96,
     "metadata": {},
     "output_type": "execute_result"
    }
   ],
   "source": [
    "to_nonke(sqdepths)"
   ],
   "metadata": {
    "collapsed": false,
    "pycharm": {
     "name": "#%%\n"
    }
   }
  },
  {
   "cell_type": "code",
   "execution_count": 92,
   "outputs": [
    {
     "data": {
      "text/plain": "array([[[0.000e+00, 0.000e+00, 0.000e+00, 1.000e+00],\n        [0.000e+00, 1.000e+00, 0.000e+00, 1.000e+00],\n        [0.000e+00, 2.000e+00, 0.000e+00, 1.000e+00],\n        ...,\n        [0.000e+00, 6.370e+02, 0.000e+00, 1.000e+00],\n        [0.000e+00, 6.380e+02, 0.000e+00, 1.000e+00],\n        [0.000e+00, 6.390e+02, 0.000e+00, 1.000e+00]],\n\n       [[1.000e+00, 0.000e+00, 0.000e+00, 1.000e+00],\n        [1.000e+00, 1.000e+00, 0.000e+00, 1.000e+00],\n        [1.000e+00, 2.000e+00, 0.000e+00, 1.000e+00],\n        ...,\n        [1.000e+00, 6.370e+02, 0.000e+00, 1.000e+00],\n        [1.000e+00, 6.380e+02, 0.000e+00, 1.000e+00],\n        [1.000e+00, 6.390e+02, 0.000e+00, 1.000e+00]],\n\n       [[2.000e+00, 0.000e+00, 0.000e+00, 1.000e+00],\n        [2.000e+00, 1.000e+00, 0.000e+00, 1.000e+00],\n        [2.000e+00, 2.000e+00, 0.000e+00, 1.000e+00],\n        ...,\n        [2.000e+00, 6.370e+02, 0.000e+00, 1.000e+00],\n        [2.000e+00, 6.380e+02, 0.000e+00, 1.000e+00],\n        [2.000e+00, 6.390e+02, 0.000e+00, 1.000e+00]],\n\n       ...,\n\n       [[4.770e+02, 0.000e+00, 2.639e+03, 1.000e+00],\n        [4.770e+02, 1.000e+00, 2.659e+03, 1.000e+00],\n        [4.770e+02, 2.000e+00, 2.659e+03, 1.000e+00],\n        ...,\n        [4.770e+02, 6.370e+02, 0.000e+00, 1.000e+00],\n        [4.770e+02, 6.380e+02, 0.000e+00, 1.000e+00],\n        [4.770e+02, 6.390e+02, 0.000e+00, 1.000e+00]],\n\n       [[4.780e+02, 0.000e+00, 2.599e+03, 1.000e+00],\n        [4.780e+02, 1.000e+00, 2.619e+03, 1.000e+00],\n        [4.780e+02, 2.000e+00, 2.659e+03, 1.000e+00],\n        ...,\n        [4.780e+02, 6.370e+02, 0.000e+00, 1.000e+00],\n        [4.780e+02, 6.380e+02, 0.000e+00, 1.000e+00],\n        [4.780e+02, 6.390e+02, 0.000e+00, 1.000e+00]],\n\n       [[4.790e+02, 0.000e+00, 2.619e+03, 1.000e+00],\n        [4.790e+02, 1.000e+00, 2.619e+03, 1.000e+00],\n        [4.790e+02, 2.000e+00, 2.659e+03, 1.000e+00],\n        ...,\n        [4.790e+02, 6.370e+02, 0.000e+00, 1.000e+00],\n        [4.790e+02, 6.380e+02, 0.000e+00, 1.000e+00],\n        [4.790e+02, 6.390e+02, 0.000e+00, 1.000e+00]]])"
     },
     "execution_count": 92,
     "metadata": {},
     "output_type": "execute_result"
    }
   ],
   "source": [
    "sqdepths / np.expand_dims(sqdepths[..., 3], axis=2)"
   ],
   "metadata": {
    "collapsed": false,
    "pycharm": {
     "name": "#%%\n"
    }
   }
  },
  {
   "cell_type": "code",
   "execution_count": 94,
   "outputs": [
    {
     "data": {
      "text/plain": "(480, 640, 1)"
     },
     "execution_count": 94,
     "metadata": {},
     "output_type": "execute_result"
    }
   ],
   "source": [
    "np.expand_dims(sqdepths[..., 3], axis=2).shape"
   ],
   "metadata": {
    "collapsed": false,
    "pycharm": {
     "name": "#%%\n"
    }
   }
  },
  {
   "cell_type": "code",
   "execution_count": 97,
   "outputs": [
    {
     "data": {
      "text/plain": "(480, 640, 4)"
     },
     "execution_count": 97,
     "metadata": {},
     "output_type": "execute_result"
    }
   ],
   "source": [
    "sqdepths.shape\n"
   ],
   "metadata": {
    "collapsed": false,
    "pycharm": {
     "name": "#%%\n"
    }
   }
  },
  {
   "cell_type": "code",
   "execution_count": 104,
   "outputs": [
    {
     "data": {
      "text/plain": "[array([[1, 2],\n        [1, 2],\n        [1, 2]]),\n array([[1, 1],\n        [2, 2],\n        [3, 3]])]"
     },
     "execution_count": 104,
     "metadata": {},
     "output_type": "execute_result"
    }
   ],
   "source": [
    "np.meshgrid([1, 2], [1, 2, 3])"
   ],
   "metadata": {
    "collapsed": false,
    "pycharm": {
     "name": "#%%\n"
    }
   }
  },
  {
   "cell_type": "code",
   "execution_count": 106,
   "outputs": [],
   "source": [
    "import itertools as itt"
   ],
   "metadata": {
    "collapsed": false,
    "pycharm": {
     "name": "#%%\n"
    }
   }
  },
  {
   "cell_type": "code",
   "execution_count": 127,
   "outputs": [
    {
     "name": "stdout",
     "output_type": "stream",
     "text": [
      "CPU times: user 297 µs, sys: 51 µs, total: 348 µs\n",
      "Wall time: 358 µs\n"
     ]
    },
    {
     "data": {
      "text/plain": "array([[[0, 0],\n        [0, 1]],\n\n       [[1, 0],\n        [1, 1]]])"
     },
     "execution_count": 127,
     "metadata": {},
     "output_type": "execute_result"
    }
   ],
   "source": [
    "%time np.array(np.meshgrid(range(2), range(2))).T.reshape(2, 2, 2)"
   ],
   "metadata": {
    "collapsed": false,
    "pycharm": {
     "name": "#%%\n"
    }
   }
  },
  {
   "cell_type": "code",
   "execution_count": 115,
   "outputs": [
    {
     "name": "stdout",
     "output_type": "stream",
     "text": [
      "CPU times: user 13 ms, sys: 77 µs, total: 13.1 ms\n",
      "Wall time: 11.5 ms\n"
     ]
    },
    {
     "data": {
      "text/plain": "array([[  0,   0],\n       [  0,   1],\n       [  0,   2],\n       ...,\n       [479, 637],\n       [479, 638],\n       [479, 639]])"
     },
     "execution_count": 115,
     "metadata": {},
     "output_type": "execute_result"
    }
   ],
   "source": [],
   "metadata": {
    "collapsed": false,
    "pycharm": {
     "name": "#%%\n"
    }
   }
  },
  {
   "cell_type": "code",
   "execution_count": 147,
   "outputs": [
    {
     "data": {
      "text/plain": "(480, 640, 1)"
     },
     "execution_count": 147,
     "metadata": {},
     "output_type": "execute_result"
    }
   ],
   "source": [
    "np.expand_dims(ndimage, axis=2).shape"
   ],
   "metadata": {
    "collapsed": false,
    "pycharm": {
     "name": "#%%\n"
    }
   }
  },
  {
   "cell_type": "code",
   "execution_count": 164,
   "outputs": [
    {
     "ename": "ModuleNotFoundError",
     "evalue": "No module named 'torchvision'",
     "output_type": "error",
     "traceback": [
      "\u001B[0;31m---------------------------------------------------------------------------\u001B[0m",
      "\u001B[0;31mModuleNotFoundError\u001B[0m                       Traceback (most recent call last)",
      "\u001B[0;32m<ipython-input-164-4a2e13788120>\u001B[0m in \u001B[0;36m<module>\u001B[0;34m\u001B[0m\n\u001B[0;32m----> 1\u001B[0;31m \u001B[0;32mfrom\u001B[0m \u001B[0mtorchvision\u001B[0m\u001B[0;34m.\u001B[0m\u001B[0mtransforms\u001B[0m \u001B[0;32mimport\u001B[0m \u001B[0mResize\u001B[0m\u001B[0;34m\u001B[0m\u001B[0;34m\u001B[0m\u001B[0m\n\u001B[0m",
      "\u001B[0;31mModuleNotFoundError\u001B[0m: No module named 'torchvision'"
     ]
    }
   ],
   "source": [],
   "metadata": {
    "collapsed": false,
    "pycharm": {
     "name": "#%%\n"
    }
   }
  }
 ],
 "metadata": {
  "interpreter": {
   "hash": "59b0c1eb78b0c29d324baea565e39f5c61a272af7a2f39e5486ac55392a9cbf3"
  },
  "kernelspec": {
   "display_name": "Python 3",
   "language": "python",
   "name": "python3"
  },
  "language_info": {
   "codemirror_mode": {
    "name": "ipython",
    "version": 3
   },
   "file_extension": ".py",
   "mimetype": "text/x-python",
   "name": "python",
   "nbconvert_exporter": "python",
   "pygments_lexer": "ipython3",
   "version": "3.8.8"
  }
 },
 "nbformat": 4,
 "nbformat_minor": 2
}